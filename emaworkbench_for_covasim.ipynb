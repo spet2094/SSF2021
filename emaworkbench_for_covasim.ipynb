{
 "cells": [
  {
   "cell_type": "markdown",
   "id": "f03ba58d",
   "metadata": {},
   "source": [
    "# Sensitivity Analysis Made Easy with the EMA Workbench: Complete demo"
   ]
  },
  {
   "cell_type": "markdown",
   "id": "d11e8ea8",
   "metadata": {},
   "source": [
    "This is the main notebook of the workshop on *sensitivity analysis* (SA) at the Social Simulation Festival 2021. Here we make a **more comperhansive demonstration** of how to do Variance-based SA also know as [Sobol SA](https://en.wikipedia.org/wiki/Variance-based_sensitivity_analysis) on a relatively simple model [virus on network](https://ccl.northwestern.edu/netlogo/models/VirusonaNetwork). The idea is that you reuse (read copy-paste) this code your own model. Therefore, we tried to keep simple and avoid extensive side steps from.\n",
    "\n",
    "This notebook is tuned to be run on [Google Colab](https://colab.research.google.com/) and has a couple of extra lines of code. If you want to use it on your local machine please use `sa_demo_local_machine.ipynb`.\n",
    "\n",
    "The core packages used in this notebook are [Mesa](https://mesa.readthedocs.io/en/stable/) to define an ABM model in Python, [EMA Workbench](https://emaworkbench.readthedocs.io/en/latest/) to design and run experiments, [SALib](https://salib.readthedocs.io/en/latest/) to conduct SA (within EMA Workbench). Also, we used one pretty plotting function of [pyNetLogo](https://pynetlogo.readthedocs.io/en/latest/).\n",
    "\n",
    "The notebook follows a simplified SA workflow and has 5 sections-steps:\n",
    "\n",
    "<img src=\"img/workflow.png\"/>"
   ]
  },
  {
   "cell_type": "markdown",
   "id": "8edf2093",
   "metadata": {},
   "source": [
    "## 0. Installations and imports"
   ]
  },
  {
   "cell_type": "code",
   "execution_count": null,
   "id": "6aec76fd",
   "metadata": {},
   "outputs": [],
   "source": [
    "# Clone the repo to make its file available for Google Colab\n",
    "#!git clone https://github.com/BROSE-Uninc/SSF2021.git"
   ]
  },
  {
   "cell_type": "code",
   "execution_count": null,
   "id": "aeec435c",
   "metadata": {},
   "outputs": [],
   "source": [
    "# Install necessary packages\n",
    "#!pip install ema_workbench mesa ipyparallel SALib\n"
   ]
  },
  {
   "cell_type": "code",
   "execution_count": 1,
   "id": "0a59ceab",
   "metadata": {},
   "outputs": [
    {
     "ename": "ModuleNotFoundError",
     "evalue": "No module named 'ema_workbench'",
     "output_type": "error",
     "traceback": [
      "\u001b[0;31m---------------------------------------------------------------------------\u001b[0m",
      "\u001b[0;31mModuleNotFoundError\u001b[0m                       Traceback (most recent call last)",
      "\u001b[0;32m<ipython-input-1-6265bacb0039>\u001b[0m in \u001b[0;36m<module>\u001b[0;34m\u001b[0m\n\u001b[1;32m      8\u001b[0m \u001b[0;34m\u001b[0m\u001b[0m\n\u001b[1;32m      9\u001b[0m \u001b[0;31m# Import EMA Workbench modules\u001b[0m\u001b[0;34m\u001b[0m\u001b[0;34m\u001b[0m\u001b[0;34m\u001b[0m\u001b[0m\n\u001b[0;32m---> 10\u001b[0;31m \u001b[0;32mfrom\u001b[0m \u001b[0mema_workbench\u001b[0m \u001b[0;32mimport\u001b[0m \u001b[0;34m(\u001b[0m\u001b[0mReplicatorModel\u001b[0m\u001b[0;34m,\u001b[0m \u001b[0mRealParameter\u001b[0m\u001b[0;34m,\u001b[0m \u001b[0mBooleanParameter\u001b[0m\u001b[0;34m,\u001b[0m \u001b[0mIntegerParameter\u001b[0m\u001b[0;34m,\u001b[0m \u001b[0mConstant\u001b[0m\u001b[0;34m,\u001b[0m \u001b[0mTimeSeriesOutcome\u001b[0m\u001b[0;34m,\u001b[0m \u001b[0mperform_experiments\u001b[0m\u001b[0;34m,\u001b[0m \u001b[0msave_results\u001b[0m\u001b[0;34m,\u001b[0m \u001b[0mema_logging\u001b[0m\u001b[0;34m)\u001b[0m\u001b[0;34m\u001b[0m\u001b[0;34m\u001b[0m\u001b[0m\n\u001b[0m\u001b[1;32m     11\u001b[0m \u001b[0;34m\u001b[0m\u001b[0m\n\u001b[1;32m     12\u001b[0m \u001b[0;31m# Initialize logger to keep track of experiments run\u001b[0m\u001b[0;34m\u001b[0m\u001b[0;34m\u001b[0m\u001b[0;34m\u001b[0m\u001b[0m\n",
      "\u001b[0;31mModuleNotFoundError\u001b[0m: No module named 'ema_workbench'"
     ]
    }
   ],
   "source": [
    "# Import necessary packages\n",
    "import numpy as np\n",
    "import pandas as pd\n",
    "import matplotlib.pyplot as plt\n",
    "import seaborn as sns\n",
    "import datetime\n",
    "import random\n",
    "\n",
    "# Import EMA Workbench modules \n",
    "from ema_workbench import (ReplicatorModel, RealParameter, BooleanParameter, IntegerParameter, Constant, TimeSeriesOutcome, perform_experiments, save_results, ema_logging)\n",
    "\n",
    "# Initialize logger to keep track of experiments run\n",
    "ema_logging.log_to_stderr(ema_logging.INFO)\n",
    "\n",
    "# Import covasim model\n",
    "import covasim as cv  # posssibly would change this to \"import covasim as cv\" from covasim import Sim"
   ]
  },
  {
   "cell_type": "markdown",
   "id": "3b2bf074",
   "metadata": {},
   "source": [
    "## 1. Load the model"
   ]
  },
  {
   "cell_type": "markdown",
   "id": "92050a4e",
   "metadata": {},
   "source": [
    "The very first step of SA with EMA Workbench is to define or \"load\" the model as a function. That is, EMA Workbench treats all models as functions (read *black box*). They are supposed to have **inputs** (parameters, constants, uncertainties and policy levers) and **outputs** (outcomes, KPIs). The model structure is not interesting for EMA Workbench. It may be something simple as `def func(x)` which just returns x + 1.\n",
    "\n",
    "Our model has quite an extensive set of **8 inputs** model parameters (read more about the model [here](https://github.com/projectmesa/mesa/tree/master/examples/virus_on_network)). Their names are pretty self-explanatory, but let's quickly go through them:\n",
    "\n",
    "1. `num_nodes` - number of network nodes,\n",
    "2. `avg_node_degree` - average node degree,\n",
    "3. `initial_outbreak_size` - initial number of infected nodes,\n",
    "4. `virus_spread_chance` - chance of the spread of the virus,\n",
    "5. `virus_check_frequency` - how often node checks,\n",
    "6. `recovery_chance` - how likely the node recovers,\n",
    "7. `gain_resistance_chance` - what is the chance that node get resistance,\n",
    "8. `steps` - number of steps.\n",
    "\n",
    "And **4 outputs** model outcomes which correspond to a simple SIR model:\n",
    "1. `Susceptible` - number of agents in susceptible state, \n",
    "2. `Infected` - number of agents in infected state,\n",
    "3. `Resistant` - number of agents in resistant state,,\n",
    "4. `TIME` - to keep track of simulation time."
   ]
  },
  {
   "cell_type": "markdown",
   "id": "e0cd718a",
   "metadata": {},
   "source": [
    "Now, let's parameterize and test out our Mesa model. What is supposed to happen? First, we shouldn't get any error 😅. Second, after we run `model_virus_on_network` function it has to give us a set of model outcomes. Let's try."
   ]
  },
  {
   "cell_type": "markdown",
   "id": "3c41e0fe",
   "metadata": {},
   "source": [
    "## 2. Design experiments"
   ]
  },
  {
   "cell_type": "markdown",
   "id": "b3e89e88",
   "metadata": {},
   "source": [
    "Now it's time to design experiments. What does it mean? Well, we have to specify:\n",
    "\n",
    "* **which model parameters** aka *inputs* are we going to sample, what are their **ranges**, and random **distributions**,\n",
    "* what we will keep as **constants** and do not change over the model run,\n",
    "* and finally which **outcomes** we want to observe.\n",
    "\n",
    "It's an important step in SA workflow and we have to be careful. Because if parameter ranges are too narrow or they're sampled from e.g. a Normal distribution, there is a chance that you'll overlook import model behavior. This is why model parameters are named **uncertainties** in the EMA Workbench. We often do not know parameter vales and how to explore many plausible options."
   ]
  },
  {
   "cell_type": "markdown",
   "id": "10dc68c5",
   "metadata": {},
   "source": [
    "Now let's talk about \"tech\" part. First we have to initialize an instance of EMA Workbench called `ReplicatorModel`. This is how we \"connect\" EMA Workbench to our Python model. We have to pass a name of our model to `ReplicatorModel`, and also pass the function that we defined previously."
   ]
  },
  {
   "cell_type": "code",
   "execution_count": 18,
   "id": "35da9ee5",
   "metadata": {},
   "outputs": [],
   "source": [
    "def model_wrapper(pars):   # creating a wrapper of the covasim simulation object\n",
    "    sim = cv.Sim(pars)    # create instance of covasim simulation object called sim (putting the brackets is activating the function rather than copying it)\n",
    "    return\n"
   ]
  },
  {
   "cell_type": "code",
   "execution_count": 19,
   "id": "39e84dc8",
   "metadata": {},
   "outputs": [
    {
     "ename": "TypeError",
     "evalue": "model_wrapper() missing 1 required positional argument: 'pars'",
     "output_type": "error",
     "traceback": [
      "\u001b[0;31m---------------------------------------------------------------------------\u001b[0m",
      "\u001b[0;31mTypeError\u001b[0m                                 Traceback (most recent call last)",
      "\u001b[0;32m<ipython-input-19-e825943c9a1f>\u001b[0m in \u001b[0;36m<module>\u001b[0;34m\u001b[0m\n\u001b[0;32m----> 1\u001b[0;31m \u001b[0mmodel_wrapper\u001b[0m\u001b[0;34m(\u001b[0m\u001b[0;34m)\u001b[0m\u001b[0;34m\u001b[0m\u001b[0;34m\u001b[0m\u001b[0m\n\u001b[0m",
      "\u001b[0;31mTypeError\u001b[0m: model_wrapper() missing 1 required positional argument: 'pars'"
     ]
    }
   ],
   "source": [
    "model_wrapper()"
   ]
  },
  {
   "cell_type": "code",
   "execution_count": 20,
   "id": "1192f759",
   "metadata": {},
   "outputs": [],
   "source": [
    "# Instantiate and pass the model \n",
    "model = ReplicatorModel('Sim', function=model_wrapper)"
   ]
  },
  {
   "cell_type": "markdown",
   "id": "eaca78af",
   "metadata": {},
   "source": [
    "Second, let's access the model and write down its attributes. Down below you can see that we have different classes for different types of parameters: `IntegerParameter`, `RealParameter`. We use the first one for integer parameters and the second for floats. To specify a parameter we have to pass it a name, left and right boundaries for sampling. As you can see, we don't to the same for `Constants`. There you have to specify only one value. Since our model it's not static and outcomes differ over time, we have to call `TimeSeriesOutcome`. Finally we need to specify how many replications do we want to have. Rule of thumb here, let's go with 10 😎."
   ]
  },
  {
   "cell_type": "code",
   "execution_count": 21,
   "id": "e6a9790a",
   "metadata": {},
   "outputs": [],
   "source": [
    "model.uncertainties = [IntegerParameter(\"pars.contacts.h\", 2, 6)]\n",
    "model.replications = 2"
   ]
  },
  {
   "cell_type": "code",
   "execution_count": null,
   "id": "98cd7b69",
   "metadata": {},
   "outputs": [],
   "source": [
    "# Define model parameters and their ranges to be sampled\n",
    "model.uncertainties = [IntegerParameter(\"num_nodes\", 10, 100),\n",
    "                       IntegerParameter(\"avg_node_degree\", 2, 8),\n",
    "                       RealParameter(\"virus_spread_chance\", 0.1, 1),\n",
    "                       RealParameter(\"virus_check_frequency\", 0.1, 1),\n",
    "                       RealParameter(\"recovery_chance\", 0.1, 1),\n",
    "                       RealParameter(\"gain_resistance_chance\", 0.1, 1)]\n",
    "\n",
    "# Define model parameters that will remain constant\n",
    "model.constants = [Constant(\"initial_outbreak_size\", 1),\n",
    "                   Constant('steps', 30)]\n",
    "\n",
    "# Define model outcomes\n",
    "model.outcomes = [TimeSeriesOutcome('TIME'),\n",
    "                  TimeSeriesOutcome('Infected'),\n",
    "                  TimeSeriesOutcome('Susceptible'),\n",
    "                  TimeSeriesOutcome('Resistant')]\n",
    "\n",
    "# Define the number of replications\n",
    "model.replications = 10\n",
    "\n",
    "\n",
    "\n",
    "'''\n",
    "\n",
    "# Define model parameters and their ranges to be sampled \n",
    "# below I am choosing to vary the number of contacts at each location and the weighting to beta in each\n",
    "# to also change the beta itself, that is established within 'make_pars' so not sure if it can be called in the same way\n",
    "model.uncertainties = [IntegerParameter(\"contacts.h\", 2, 6),\n",
    "                       IntegerParameter(\"contacts.s\", 6, 20),\n",
    "                       IntegerParameter(\"contacts.w\", 3,16),\n",
    "                       IntegaerParameter(\"contacts.c\", 2,20),\n",
    "                       RealParameter(\"beta_layer.h\", 0.5, 3),\n",
    "                       RealParameter(\"beta_layer.s\", 0.6, 1.5),\n",
    "                       RealParameter(\"beta_layer.w\", 0.6, 1.5),\n",
    "                       RealParameter(\"beta_layer.c\", 0.3, 1.5),\n",
    "                       RealParameter(\"pars.beta\", 0.016, 1.0)]  # this last one would be make_pars\n",
    "\n",
    "# Define model parameters that will remain constant - the time and no. starting infections (also set in make_pars) for 365 days\n",
    "model.constants = [Constant(\"pars.pop_infected\", 20),\n",
    "                   Constant('steps', 365)]\n",
    "\n",
    "# Define model outcomes\n",
    "model.outcomes = [TimeSeriesOutcome('TIME'),\n",
    "                  TimeSeriesOutcome('Infected'),\n",
    "                  TimeSeriesOutcome('Susceptible'),\n",
    "                  TimeSeriesOutcome('Resistant')]\n",
    "\n",
    "# Define the number of replications\n",
    "model.replications = 10\n",
    "    \n",
    "'''\n"
   ]
  },
  {
   "cell_type": "markdown",
   "id": "88c1abe8",
   "metadata": {},
   "source": [
    "## 3. Run the model"
   ]
  },
  {
   "cell_type": "markdown",
   "id": "30b92b10",
   "metadata": {},
   "source": [
    "Now, we're all set to run the model. The syntax here is pretty straightforward: we call `perform_experiments`, passing it a model instance and specify how many `scenarios` we need. Depending on the number of scenarios EMA Workbench samples the parameters. As a result, the more scenarios you pass, the more parameter combinations you get. One more attribute here is the type of `uncertainty_sampling`. Some SA methods require a specific way of how parameters should be sampled, e.g. Sobol SA. That's why we have to specify it here.\n",
    "\n",
    "Important thing to remember: Sobol SA requires a relatively **large sample size**. As [docs](https://pynetlogo.readthedocs.io/en/latest/_docs/SALib_ipyparallel.html#Using-SALib-for-sensitivity-analysis) say, to calculate first-order, second-order and total sensitivity indices, we need to have sample size of n(2p+2), where p is the number of input parameters, and n is a baseline sample size which should be large enough to stabilize the estimation of the indices."
   ]
  },
  {
   "cell_type": "code",
   "execution_count": 22,
   "id": "3557b0aa",
   "metadata": {},
   "outputs": [
    {
     "name": "stderr",
     "output_type": "stream",
     "text": [
      "[MainProcess/INFO] performing 8 scenarios * 1 policies * 1 model(s) = 8 experiments\n",
      "[MainProcess/INFO] performing experiments sequentially\n",
      "[MainProcess/ERROR] model_wrapper() got an unexpected keyword argument 'pars.contacts.h'\n",
      "Traceback (most recent call last):\n",
      "  File \"/opt/anaconda3/envs/sa-with-ema/lib/python3.8/site-packages/ema_workbench/em_framework/experiment_runner.py\", line 85, in run_experiment\n",
      "    model.run_model(scenario, policy)\n",
      "  File \"/opt/anaconda3/envs/sa-with-ema/lib/python3.8/site-packages/ema_workbench/util/ema_logging.py\", line 158, in wrapper\n",
      "    res = func(*args, **kwargs)\n",
      "  File \"/opt/anaconda3/envs/sa-with-ema/lib/python3.8/site-packages/ema_workbench/em_framework/model.py\", line 306, in run_model\n",
      "    output = self.run_experiment(experiment)\n",
      "  File \"/opt/anaconda3/envs/sa-with-ema/lib/python3.8/site-packages/ema_workbench/util/ema_logging.py\", line 158, in wrapper\n",
      "    res = func(*args, **kwargs)\n",
      "  File \"/opt/anaconda3/envs/sa-with-ema/lib/python3.8/site-packages/ema_workbench/em_framework/model.py\", line 391, in run_experiment\n",
      "    model_output = self.function(**experiment)\n",
      "TypeError: model_wrapper() got an unexpected keyword argument 'pars.contacts.h'\n"
     ]
    },
    {
     "ename": "EMAError",
     "evalue": "exception in run_model\nCaused by: TypeError: model_wrapper() got an unexpected keyword argument 'pars.contacts.h'",
     "output_type": "error",
     "traceback": [
      "\u001b[0;31m---------------------------------------------------------------------------\u001b[0m",
      "\u001b[0;31mTypeError\u001b[0m                                 Traceback (most recent call last)",
      "\u001b[0;32m/opt/anaconda3/envs/sa-with-ema/lib/python3.8/site-packages/ema_workbench/em_framework/experiment_runner.py\u001b[0m in \u001b[0;36mrun_experiment\u001b[0;34m(self, experiment)\u001b[0m\n\u001b[1;32m     84\u001b[0m         \u001b[0;32mtry\u001b[0m\u001b[0;34m:\u001b[0m\u001b[0;34m\u001b[0m\u001b[0;34m\u001b[0m\u001b[0m\n\u001b[0;32m---> 85\u001b[0;31m             \u001b[0mmodel\u001b[0m\u001b[0;34m.\u001b[0m\u001b[0mrun_model\u001b[0m\u001b[0;34m(\u001b[0m\u001b[0mscenario\u001b[0m\u001b[0;34m,\u001b[0m \u001b[0mpolicy\u001b[0m\u001b[0;34m)\u001b[0m\u001b[0;34m\u001b[0m\u001b[0;34m\u001b[0m\u001b[0m\n\u001b[0m\u001b[1;32m     86\u001b[0m         \u001b[0;32mexcept\u001b[0m \u001b[0mCaseError\u001b[0m \u001b[0;32mas\u001b[0m \u001b[0me\u001b[0m\u001b[0;34m:\u001b[0m\u001b[0;34m\u001b[0m\u001b[0;34m\u001b[0m\u001b[0m\n",
      "\u001b[0;32m/opt/anaconda3/envs/sa-with-ema/lib/python3.8/site-packages/ema_workbench/util/ema_logging.py\u001b[0m in \u001b[0;36mwrapper\u001b[0;34m(*args, **kwargs)\u001b[0m\n\u001b[1;32m    157\u001b[0m             \u001b[0mlogger\u001b[0m\u001b[0;34m.\u001b[0m\u001b[0mdebug\u001b[0m\u001b[0;34m(\u001b[0m\u001b[0;34m'calling {} on {}'\u001b[0m\u001b[0;34m.\u001b[0m\u001b[0mformat\u001b[0m\u001b[0;34m(\u001b[0m\u001b[0mfunc\u001b[0m\u001b[0;34m.\u001b[0m\u001b[0m__name__\u001b[0m\u001b[0;34m,\u001b[0m \u001b[0mclassname\u001b[0m\u001b[0;34m)\u001b[0m\u001b[0;34m)\u001b[0m\u001b[0;34m\u001b[0m\u001b[0;34m\u001b[0m\u001b[0m\n\u001b[0;32m--> 158\u001b[0;31m             \u001b[0mres\u001b[0m \u001b[0;34m=\u001b[0m \u001b[0mfunc\u001b[0m\u001b[0;34m(\u001b[0m\u001b[0;34m*\u001b[0m\u001b[0margs\u001b[0m\u001b[0;34m,\u001b[0m \u001b[0;34m**\u001b[0m\u001b[0mkwargs\u001b[0m\u001b[0;34m)\u001b[0m\u001b[0;34m\u001b[0m\u001b[0;34m\u001b[0m\u001b[0m\n\u001b[0m\u001b[1;32m    159\u001b[0m             logger.debug(\n",
      "\u001b[0;32m/opt/anaconda3/envs/sa-with-ema/lib/python3.8/site-packages/ema_workbench/em_framework/model.py\u001b[0m in \u001b[0;36mrun_model\u001b[0;34m(self, scenario, policy)\u001b[0m\n\u001b[1;32m    305\u001b[0m             \u001b[0mexperiment\u001b[0m \u001b[0;34m=\u001b[0m \u001b[0mExperiment\u001b[0m\u001b[0;34m(\u001b[0m\u001b[0mscenario\u001b[0m\u001b[0;34m,\u001b[0m \u001b[0mself\u001b[0m\u001b[0;34m.\u001b[0m\u001b[0mpolicy\u001b[0m\u001b[0;34m,\u001b[0m \u001b[0mconstants\u001b[0m\u001b[0;34m,\u001b[0m \u001b[0mrep\u001b[0m\u001b[0;34m)\u001b[0m\u001b[0;34m\u001b[0m\u001b[0;34m\u001b[0m\u001b[0m\n\u001b[0;32m--> 306\u001b[0;31m             \u001b[0moutput\u001b[0m \u001b[0;34m=\u001b[0m \u001b[0mself\u001b[0m\u001b[0;34m.\u001b[0m\u001b[0mrun_experiment\u001b[0m\u001b[0;34m(\u001b[0m\u001b[0mexperiment\u001b[0m\u001b[0;34m)\u001b[0m\u001b[0;34m\u001b[0m\u001b[0;34m\u001b[0m\u001b[0m\n\u001b[0m\u001b[1;32m    307\u001b[0m             \u001b[0;32mfor\u001b[0m \u001b[0mkey\u001b[0m\u001b[0;34m,\u001b[0m \u001b[0mvalue\u001b[0m \u001b[0;32min\u001b[0m \u001b[0moutput\u001b[0m\u001b[0;34m.\u001b[0m\u001b[0mitems\u001b[0m\u001b[0;34m(\u001b[0m\u001b[0;34m)\u001b[0m\u001b[0;34m:\u001b[0m\u001b[0;34m\u001b[0m\u001b[0;34m\u001b[0m\u001b[0m\n",
      "\u001b[0;32m/opt/anaconda3/envs/sa-with-ema/lib/python3.8/site-packages/ema_workbench/util/ema_logging.py\u001b[0m in \u001b[0;36mwrapper\u001b[0;34m(*args, **kwargs)\u001b[0m\n\u001b[1;32m    157\u001b[0m             \u001b[0mlogger\u001b[0m\u001b[0;34m.\u001b[0m\u001b[0mdebug\u001b[0m\u001b[0;34m(\u001b[0m\u001b[0;34m'calling {} on {}'\u001b[0m\u001b[0;34m.\u001b[0m\u001b[0mformat\u001b[0m\u001b[0;34m(\u001b[0m\u001b[0mfunc\u001b[0m\u001b[0;34m.\u001b[0m\u001b[0m__name__\u001b[0m\u001b[0;34m,\u001b[0m \u001b[0mclassname\u001b[0m\u001b[0;34m)\u001b[0m\u001b[0;34m)\u001b[0m\u001b[0;34m\u001b[0m\u001b[0;34m\u001b[0m\u001b[0m\n\u001b[0;32m--> 158\u001b[0;31m             \u001b[0mres\u001b[0m \u001b[0;34m=\u001b[0m \u001b[0mfunc\u001b[0m\u001b[0;34m(\u001b[0m\u001b[0;34m*\u001b[0m\u001b[0margs\u001b[0m\u001b[0;34m,\u001b[0m \u001b[0;34m**\u001b[0m\u001b[0mkwargs\u001b[0m\u001b[0;34m)\u001b[0m\u001b[0;34m\u001b[0m\u001b[0;34m\u001b[0m\u001b[0m\n\u001b[0m\u001b[1;32m    159\u001b[0m             logger.debug(\n",
      "\u001b[0;32m/opt/anaconda3/envs/sa-with-ema/lib/python3.8/site-packages/ema_workbench/em_framework/model.py\u001b[0m in \u001b[0;36mrun_experiment\u001b[0;34m(self, experiment)\u001b[0m\n\u001b[1;32m    390\u001b[0m         \"\"\"\n\u001b[0;32m--> 391\u001b[0;31m         \u001b[0mmodel_output\u001b[0m \u001b[0;34m=\u001b[0m \u001b[0mself\u001b[0m\u001b[0;34m.\u001b[0m\u001b[0mfunction\u001b[0m\u001b[0;34m(\u001b[0m\u001b[0;34m**\u001b[0m\u001b[0mexperiment\u001b[0m\u001b[0;34m)\u001b[0m\u001b[0;34m\u001b[0m\u001b[0;34m\u001b[0m\u001b[0m\n\u001b[0m\u001b[1;32m    392\u001b[0m \u001b[0;34m\u001b[0m\u001b[0m\n",
      "\u001b[0;31mTypeError\u001b[0m: model_wrapper() got an unexpected keyword argument 'pars.contacts.h'",
      "\nDuring handling of the above exception, another exception occurred:\n",
      "\u001b[0;31mEMAError\u001b[0m                                  Traceback (most recent call last)",
      "\u001b[0;32m<ipython-input-22-837e4c97e562>\u001b[0m in \u001b[0;36m<module>\u001b[0;34m\u001b[0m\n\u001b[1;32m      1\u001b[0m \u001b[0;31m# Run experiments with the aforementioned parameters and outputs\u001b[0m\u001b[0;34m\u001b[0m\u001b[0;34m\u001b[0m\u001b[0;34m\u001b[0m\u001b[0m\n\u001b[0;32m----> 2\u001b[0;31m \u001b[0mresults\u001b[0m \u001b[0;34m=\u001b[0m \u001b[0mperform_experiments\u001b[0m\u001b[0;34m(\u001b[0m\u001b[0mmodels\u001b[0m\u001b[0;34m=\u001b[0m\u001b[0mmodel\u001b[0m\u001b[0;34m,\u001b[0m \u001b[0mscenarios\u001b[0m\u001b[0;34m=\u001b[0m\u001b[0;36m2\u001b[0m\u001b[0;34m,\u001b[0m \u001b[0muncertainty_sampling\u001b[0m\u001b[0;34m=\u001b[0m\u001b[0;34m'sobol'\u001b[0m\u001b[0;34m)\u001b[0m\u001b[0;34m\u001b[0m\u001b[0;34m\u001b[0m\u001b[0m\n\u001b[0m",
      "\u001b[0;32m/opt/anaconda3/envs/sa-with-ema/lib/python3.8/site-packages/ema_workbench/em_framework/evaluators.py\u001b[0m in \u001b[0;36mperform_experiments\u001b[0;34m(models, scenarios, policies, evaluator, reporting_interval, reporting_frequency, uncertainty_union, lever_union, outcome_union, uncertainty_sampling, levers_sampling, callback, return_callback)\u001b[0m\n\u001b[1;32m    466\u001b[0m         \u001b[0mevaluator\u001b[0m \u001b[0;34m=\u001b[0m \u001b[0mSequentialEvaluator\u001b[0m\u001b[0;34m(\u001b[0m\u001b[0mmodels\u001b[0m\u001b[0;34m)\u001b[0m\u001b[0;34m\u001b[0m\u001b[0;34m\u001b[0m\u001b[0m\n\u001b[1;32m    467\u001b[0m \u001b[0;34m\u001b[0m\u001b[0m\n\u001b[0;32m--> 468\u001b[0;31m     \u001b[0mevaluator\u001b[0m\u001b[0;34m.\u001b[0m\u001b[0mevaluate_experiments\u001b[0m\u001b[0;34m(\u001b[0m\u001b[0mscenarios\u001b[0m\u001b[0;34m,\u001b[0m \u001b[0mpolicies\u001b[0m\u001b[0;34m,\u001b[0m \u001b[0mcallback\u001b[0m\u001b[0;34m)\u001b[0m\u001b[0;34m\u001b[0m\u001b[0;34m\u001b[0m\u001b[0m\n\u001b[0m\u001b[1;32m    469\u001b[0m \u001b[0;34m\u001b[0m\u001b[0m\n\u001b[1;32m    470\u001b[0m     \u001b[0;32mif\u001b[0m \u001b[0mcallback\u001b[0m\u001b[0;34m.\u001b[0m\u001b[0mi\u001b[0m \u001b[0;34m!=\u001b[0m \u001b[0mnr_of_exp\u001b[0m\u001b[0;34m:\u001b[0m\u001b[0;34m\u001b[0m\u001b[0;34m\u001b[0m\u001b[0m\n",
      "\u001b[0;32m/opt/anaconda3/envs/sa-with-ema/lib/python3.8/site-packages/ema_workbench/em_framework/evaluators.py\u001b[0m in \u001b[0;36mevaluate_experiments\u001b[0;34m(self, scenarios, policies, callback)\u001b[0m\n\u001b[1;32m    227\u001b[0m \u001b[0;34m\u001b[0m\u001b[0m\n\u001b[1;32m    228\u001b[0m         \u001b[0;32mfor\u001b[0m \u001b[0mexperiment\u001b[0m \u001b[0;32min\u001b[0m \u001b[0mex_gen\u001b[0m\u001b[0;34m:\u001b[0m\u001b[0;34m\u001b[0m\u001b[0;34m\u001b[0m\u001b[0m\n\u001b[0;32m--> 229\u001b[0;31m             \u001b[0moutcomes\u001b[0m \u001b[0;34m=\u001b[0m \u001b[0mrunner\u001b[0m\u001b[0;34m.\u001b[0m\u001b[0mrun_experiment\u001b[0m\u001b[0;34m(\u001b[0m\u001b[0mexperiment\u001b[0m\u001b[0;34m)\u001b[0m\u001b[0;34m\u001b[0m\u001b[0;34m\u001b[0m\u001b[0m\n\u001b[0m\u001b[1;32m    230\u001b[0m             \u001b[0mcallback\u001b[0m\u001b[0;34m(\u001b[0m\u001b[0mexperiment\u001b[0m\u001b[0;34m,\u001b[0m \u001b[0moutcomes\u001b[0m\u001b[0;34m)\u001b[0m\u001b[0;34m\u001b[0m\u001b[0;34m\u001b[0m\u001b[0m\n\u001b[1;32m    231\u001b[0m         \u001b[0mrunner\u001b[0m\u001b[0;34m.\u001b[0m\u001b[0mcleanup\u001b[0m\u001b[0;34m(\u001b[0m\u001b[0;34m)\u001b[0m\u001b[0;34m\u001b[0m\u001b[0;34m\u001b[0m\u001b[0m\n",
      "\u001b[0;32m/opt/anaconda3/envs/sa-with-ema/lib/python3.8/site-packages/ema_workbench/em_framework/experiment_runner.py\u001b[0m in \u001b[0;36mrun_experiment\u001b[0;34m(self, experiment)\u001b[0m\n\u001b[1;32m     99\u001b[0m \u001b[0;34m\u001b[0m\u001b[0m\n\u001b[1;32m    100\u001b[0m             \u001b[0merrortype\u001b[0m \u001b[0;34m=\u001b[0m \u001b[0mtype\u001b[0m\u001b[0;34m(\u001b[0m\u001b[0me\u001b[0m\u001b[0;34m)\u001b[0m\u001b[0;34m.\u001b[0m\u001b[0m__name__\u001b[0m\u001b[0;34m\u001b[0m\u001b[0;34m\u001b[0m\u001b[0m\n\u001b[0;32m--> 101\u001b[0;31m             raise EMAError((\"exception in run_model\"\n\u001b[0m\u001b[1;32m    102\u001b[0m                             \"\\nCaused by: {}: {}\".format(errortype, str(e))))\n\u001b[1;32m    103\u001b[0m \u001b[0;34m\u001b[0m\u001b[0m\n",
      "\u001b[0;31mEMAError\u001b[0m: exception in run_model\nCaused by: TypeError: model_wrapper() got an unexpected keyword argument 'pars.contacts.h'"
     ]
    }
   ],
   "source": [
    "# Run experiments with the aforementioned parameters and outputs\n",
    "results = perform_experiments(models=model, scenarios=2, uncertainty_sampling='sobol')"
   ]
  },
  {
   "cell_type": "code",
   "execution_count": null,
   "id": "ef4ae58e",
   "metadata": {},
   "outputs": [],
   "source": [
    "# Get the results\n",
    "experiments, outcomes = results"
   ]
  },
  {
   "cell_type": "code",
   "execution_count": null,
   "id": "6402043d",
   "metadata": {},
   "outputs": [],
   "source": [
    "experiments.head()"
   ]
  },
  {
   "cell_type": "code",
   "execution_count": null,
   "id": "5ec53c8a",
   "metadata": {},
   "outputs": [],
   "source": [
    "outcomes.keys()"
   ]
  },
  {
   "cell_type": "markdown",
   "id": "aa9f154e",
   "metadata": {},
   "source": [
    "Often it is a good idea to save the results of a lengthy run and open up it next day 🥱. Great that EMA Workbench has such a feature."
   ]
  },
  {
   "cell_type": "markdown",
   "id": "fdcdc615",
   "metadata": {},
   "source": [
    "### Epic save"
   ]
  },
  {
   "cell_type": "markdown",
   "id": "a8e41c35",
   "metadata": {},
   "source": [
    "<center><img src=\"img/save.jpg\" width=200 height=260/><center>"
   ]
  },
  {
   "cell_type": "code",
   "execution_count": null,
   "id": "5dc534aa",
   "metadata": {},
   "outputs": [],
   "source": [
    "from ema_workbench.util.utilities import save_results, load_results\n",
    "import os"
   ]
  },
  {
   "cell_type": "code",
   "execution_count": null,
   "id": "db61011e",
   "metadata": {},
   "outputs": [],
   "source": [
    "# Create a directory to store the results\n",
    "directory = 'results/virus_on_network'\n",
    "if not os.path.exists(directory):\n",
    "    os.makedirs(directory)"
   ]
  },
  {
   "cell_type": "code",
   "execution_count": null,
   "id": "3ffe84ad",
   "metadata": {},
   "outputs": [],
   "source": [
    "# Save the results\n",
    "save_results(results, directory + '/results.tar.gz')"
   ]
  },
  {
   "cell_type": "code",
   "execution_count": null,
   "id": "f804f6a7",
   "metadata": {},
   "outputs": [],
   "source": [
    "# Load the results\n",
    "results = load_results(directory + '/results.tar.gz')"
   ]
  },
  {
   "cell_type": "code",
   "execution_count": null,
   "id": "260f37a3",
   "metadata": {},
   "outputs": [],
   "source": [
    "experiments, outcomes = results"
   ]
  },
  {
   "cell_type": "code",
   "execution_count": null,
   "id": "stuffed-buffer",
   "metadata": {},
   "outputs": [],
   "source": [
    "outcomes.keys()"
   ]
  },
  {
   "cell_type": "markdown",
   "id": "e922b156",
   "metadata": {},
   "source": [
    "### A bit of preprocessing"
   ]
  },
  {
   "cell_type": "markdown",
   "id": "29145c25",
   "metadata": {},
   "source": [
    "Before we proceed further, we have to do a bit of preprocessing. Let's take a closer look at the outcomes. We have 4 outcomes, 1400 scenarios, 10 replications and we run the model for 30 steps. This is what you see down below:"
   ]
  },
  {
   "cell_type": "code",
   "execution_count": null,
   "id": "2b621340",
   "metadata": {},
   "outputs": [],
   "source": [
    "print(random.choice(list(outcomes)))\n",
    "outcomes[random.choice(list(outcomes))].shape"
   ]
  },
  {
   "cell_type": "markdown",
   "id": "25f8b5ad",
   "metadata": {},
   "source": [
    "To simplify our life 😅, let's take a mean over all replications that we had. "
   ]
  },
  {
   "cell_type": "code",
   "execution_count": null,
   "id": "27befefd",
   "metadata": {},
   "outputs": [],
   "source": [
    "mean_outcomes = {key:np.mean(outcomes[key],axis=1) for key in outcomes.keys()}\n",
    "mean_results = (experiments.copy(), mean_outcomes)"
   ]
  },
  {
   "cell_type": "code",
   "execution_count": null,
   "id": "48a2ec8a",
   "metadata": {},
   "outputs": [],
   "source": [
    "# Now the shape of this array doesn't have 10 in it  \n",
    "mean_outcomes[random.choice(list(outcomes))].shape"
   ]
  },
  {
   "cell_type": "markdown",
   "id": "5854d562",
   "metadata": {},
   "source": [
    "Note from Sophie: What I am wanting to do is see if these commands have created a means of looking at each of the mean_outcomes, for each of the experiments, in one worksheet -- has that been done? If not, I would want to do this. If I have that, it will enable me to then write some code to identify which combination of parameters produces the closest estimate to my real data. "
   ]
  },
  {
   "cell_type": "code",
   "execution_count": null,
   "id": "5017d122",
   "metadata": {},
   "outputs": [],
   "source": [
    "mean_results"
   ]
  },
  {
   "cell_type": "markdown",
   "id": "fe58a00e",
   "metadata": {},
   "source": []
  },
  {
   "cell_type": "markdown",
   "id": "6c220832",
   "metadata": {},
   "source": [
    "### Visuals!"
   ]
  },
  {
   "cell_type": "code",
   "execution_count": null,
   "id": "afc51f04",
   "metadata": {},
   "outputs": [],
   "source": [
    "from ema_workbench.analysis.plotting import lines"
   ]
  },
  {
   "cell_type": "code",
   "execution_count": null,
   "id": "5c36df25",
   "metadata": {},
   "outputs": [],
   "source": [
    "plt.rcParams['figure.figsize'] = [10, 12]\n",
    "figure = lines(experiments, mean_outcomes)"
   ]
  },
  {
   "cell_type": "markdown",
   "id": "0fc2e208",
   "metadata": {},
   "source": [
    "Note from Sophie: So again here, I would import the data I have for validation, then want to find a way to compare the values over time with each of these outcomes "
   ]
  },
  {
   "cell_type": "markdown",
   "id": "c7991419",
   "metadata": {},
   "source": [
    "## 4. Do sensitivity analysis"
   ]
  },
  {
   "cell_type": "markdown",
   "id": "7c0e5619",
   "metadata": {},
   "source": [
    "Finally, we're here 🧙. EMA Workbench and SALib have different methods available for sampling and SA. Here we're going to use Variance-based Sensitivity Analysis also known as Sobol (by the surname of its author). Take a look at other options available there. As usual the most complex task here is to find out whether your model fits the method. As Confucius said \"*If you found a method that fits your problem within an hour, you're either a method developer or most probably bamboozled yourself.*\" \n",
    "For now, let's imagine that we found the right method and it is Sobol.\n",
    "\n",
    "The *tech* part here is relatively straightforward:\n",
    "\n",
    "1. Specify a *problem*, or simply say what model parameters did you sample,\n",
    "2. Select an *outcome* of interest, yes, we have to analyze the impact outcome by outcome,\n",
    "3. Run the analysis.  "
   ]
  },
  {
   "cell_type": "code",
   "execution_count": null,
   "id": "14390865",
   "metadata": {},
   "outputs": [],
   "source": [
    "from SALib.analyze import sobol\n",
    "from ema_workbench.em_framework.salib_samplers import get_SALib_problem\n",
    "from src.plot import plot_sobol_indices\n",
    "sns.set_style('white')"
   ]
  },
  {
   "cell_type": "code",
   "execution_count": null,
   "id": "27d2579f",
   "metadata": {},
   "outputs": [],
   "source": [
    "# Specify the problem\n",
    "problem = get_SALib_problem(model.uncertainties)"
   ]
  },
  {
   "cell_type": "code",
   "execution_count": null,
   "id": "3c1d5b92",
   "metadata": {},
   "outputs": [],
   "source": [
    "# Select and normalize an outcome\n",
    "normalized_resistant = (mean_outcomes['Resistant'][:,-1] / experiments['num_nodes']).to_numpy()\n",
    "# it has taken all the number of resistant people/number of people in that run = % of resistant individuals per run"
   ]
  },
  {
   "cell_type": "code",
   "execution_count": null,
   "id": "4a540f56",
   "metadata": {},
   "outputs": [],
   "source": [
    "normalized_resistant  # to get the full list, do for x in normalized_resistant: print (x) "
   ]
  },
  {
   "cell_type": "code",
   "execution_count": null,
   "id": "60520079",
   "metadata": {},
   "outputs": [],
   "source": [
    "normalized_resistant.shape"
   ]
  },
  {
   "cell_type": "code",
   "execution_count": null,
   "id": "429f45c9",
   "metadata": {},
   "outputs": [],
   "source": [
    "# Perform Sobol SA\n",
    "Si = sobol.analyze(problem=problem, Y=normalized_resistant,\n",
    "                   calc_second_order=True, print_to_console=False)\n",
    "\n",
    "# which of the uncertainties (parameters that we have defined for ranges) has the most impact on the normalized_resistant outcome\n",
    "# calc second order - what is the next parameter of importance (holding other things constant) like second component of PCA\n",
    "\n",
    "# Get scores by type \n",
    "Si_filter = {k:Si[k] for k in ['ST', 'ST_conf', 'S1', 'S1_conf']}\n",
    "\n",
    "# Create a DataFrame out of them\n",
    "Si_df = pd.DataFrame(Si_filter, index=problem['names'])\n",
    "\n",
    "# Get indices and error bars\n",
    "indices = Si_df[['S1','ST']]\n",
    "err = Si_df[['S1_conf','ST_conf']]"
   ]
  },
  {
   "cell_type": "code",
   "execution_count": null,
   "id": "6bfdd2d5",
   "metadata": {},
   "outputs": [],
   "source": [
    "# Plot the results as a barplot\n",
    "fig, ax = plt.subplots(1)\n",
    "indices.plot.bar(yerr=err.values.T, ax=ax)\n",
    "fig.set_size_inches(8,6)\n",
    "fig.subplots_adjust(bottom=0.3)\n",
    "\n",
    "# the orange bars show what factors are the second most important (once you've considered the first)"
   ]
  },
  {
   "cell_type": "code",
   "execution_count": null,
   "id": "4c982e8a",
   "metadata": {},
   "outputs": [],
   "source": [
    "# Even a nicer plot\n",
    "fig = plot_sobol_indices(Si, problem, criterion='ST', threshold=0.005)\n",
    "fig.set_size_inches(7,7)\n",
    "\n",
    "# So it's kind of like a PCA I think. "
   ]
  },
  {
   "cell_type": "markdown",
   "id": "449e17c9",
   "metadata": {},
   "source": [
    "## save as HTML"
   ]
  },
  {
   "cell_type": "code",
   "execution_count": null,
   "id": "2b52d7bc",
   "metadata": {},
   "outputs": [],
   "source": [
    "!jupyter nbconvert emaworkbench_for_covasim.ipynb --to html --output emaworkbench_for_covasim_draft0.html"
   ]
  },
  {
   "cell_type": "code",
   "execution_count": null,
   "id": "85b8c1ae",
   "metadata": {},
   "outputs": [],
   "source": []
  }
 ],
 "metadata": {
  "kernelspec": {
   "display_name": "Python 3",
   "language": "python",
   "name": "python3"
  },
  "language_info": {
   "codemirror_mode": {
    "name": "ipython",
    "version": 3
   },
   "file_extension": ".py",
   "mimetype": "text/x-python",
   "name": "python",
   "nbconvert_exporter": "python",
   "pygments_lexer": "ipython3",
   "version": "3.8.3"
  }
 },
 "nbformat": 4,
 "nbformat_minor": 5
}
